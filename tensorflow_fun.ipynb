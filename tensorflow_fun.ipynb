{
  "nbformat": 4,
  "nbformat_minor": 0,
  "metadata": {
    "colab": {
      "provenance": [],
      "gpuType": "V5E1",
      "mount_file_id": "1R31rRt5BNPDGPeoGrDAqUg352t5kbIRp",
      "authorship_tag": "ABX9TyOYtEYL96kKS23JfEobGn+g",
      "include_colab_link": true
    },
    "kernelspec": {
      "name": "python3",
      "display_name": "Python 3"
    },
    "language_info": {
      "name": "python"
    },
    "accelerator": "TPU"
  },
  "cells": [
    {
      "cell_type": "markdown",
      "metadata": {
        "id": "view-in-github",
        "colab_type": "text"
      },
      "source": [
        "<a href=\"https://colab.research.google.com/github/nilaykd/playground/blob/main/tensorflow_fun.ipynb\" target=\"_parent\"><img src=\"https://colab.research.google.com/assets/colab-badge.svg\" alt=\"Open In Colab\"/></a>"
      ]
    },
    {
      "cell_type": "code",
      "source": [
        "!pip install tensorflow"
      ],
      "metadata": {
        "colab": {
          "base_uri": "https://localhost:8080/"
        },
        "collapsed": true,
        "id": "uh5hhlY2Bd_J",
        "outputId": "38f1db3b-13ae-4512-a4f9-c083db9f5515"
      },
      "execution_count": null,
      "outputs": [
        {
          "output_type": "stream",
          "name": "stdout",
          "text": [
            "Collecting tensorflow\n",
            "  Downloading tensorflow-2.20.0-cp312-cp312-manylinux_2_17_x86_64.manylinux2014_x86_64.whl.metadata (4.5 kB)\n",
            "Requirement already satisfied: absl-py>=1.0.0 in /usr/local/lib/python3.12/dist-packages (from tensorflow) (1.4.0)\n",
            "Collecting astunparse>=1.6.0 (from tensorflow)\n",
            "  Downloading astunparse-1.6.3-py2.py3-none-any.whl.metadata (4.4 kB)\n",
            "Collecting flatbuffers>=24.3.25 (from tensorflow)\n",
            "  Downloading flatbuffers-25.9.23-py2.py3-none-any.whl.metadata (875 bytes)\n",
            "Requirement already satisfied: gast!=0.5.0,!=0.5.1,!=0.5.2,>=0.2.1 in /usr/local/lib/python3.12/dist-packages (from tensorflow) (0.6.0)\n",
            "Collecting google_pasta>=0.1.1 (from tensorflow)\n",
            "  Downloading google_pasta-0.2.0-py3-none-any.whl.metadata (814 bytes)\n",
            "Collecting libclang>=13.0.0 (from tensorflow)\n",
            "  Downloading libclang-18.1.1-py2.py3-none-manylinux2010_x86_64.whl.metadata (5.2 kB)\n",
            "Requirement already satisfied: opt_einsum>=2.3.2 in /usr/local/lib/python3.12/dist-packages (from tensorflow) (3.4.0)\n",
            "Requirement already satisfied: packaging in /usr/local/lib/python3.12/dist-packages (from tensorflow) (25.0)\n",
            "Requirement already satisfied: protobuf>=5.28.0 in /usr/local/lib/python3.12/dist-packages (from tensorflow) (6.32.1)\n",
            "Requirement already satisfied: requests<3,>=2.21.0 in /usr/local/lib/python3.12/dist-packages (from tensorflow) (2.32.4)\n",
            "Requirement already satisfied: setuptools in /usr/local/lib/python3.12/dist-packages (from tensorflow) (75.2.0)\n",
            "Requirement already satisfied: six>=1.12.0 in /usr/local/lib/python3.12/dist-packages (from tensorflow) (1.17.0)\n",
            "Requirement already satisfied: termcolor>=1.1.0 in /usr/local/lib/python3.12/dist-packages (from tensorflow) (3.1.0)\n",
            "Requirement already satisfied: typing_extensions>=3.6.6 in /usr/local/lib/python3.12/dist-packages (from tensorflow) (4.15.0)\n",
            "Requirement already satisfied: wrapt>=1.11.0 in /usr/local/lib/python3.12/dist-packages (from tensorflow) (1.17.3)\n",
            "Requirement already satisfied: grpcio<2.0,>=1.24.3 in /usr/local/lib/python3.12/dist-packages (from tensorflow) (1.75.0)\n",
            "Collecting tensorboard~=2.20.0 (from tensorflow)\n",
            "  Downloading tensorboard-2.20.0-py3-none-any.whl.metadata (1.8 kB)\n",
            "Requirement already satisfied: keras>=3.10.0 in /usr/local/lib/python3.12/dist-packages (from tensorflow) (3.10.0)\n",
            "Requirement already satisfied: numpy>=1.26.0 in /usr/local/lib/python3.12/dist-packages (from tensorflow) (2.0.2)\n",
            "Requirement already satisfied: h5py>=3.11.0 in /usr/local/lib/python3.12/dist-packages (from tensorflow) (3.14.0)\n",
            "Requirement already satisfied: ml_dtypes<1.0.0,>=0.5.1 in /usr/local/lib/python3.12/dist-packages (from tensorflow) (0.5.3)\n",
            "Collecting wheel<1.0,>=0.23.0 (from astunparse>=1.6.0->tensorflow)\n",
            "  Downloading wheel-0.45.1-py3-none-any.whl.metadata (2.3 kB)\n",
            "Requirement already satisfied: rich in /usr/local/lib/python3.12/dist-packages (from keras>=3.10.0->tensorflow) (14.1.0)\n",
            "Requirement already satisfied: namex in /usr/local/lib/python3.12/dist-packages (from keras>=3.10.0->tensorflow) (0.1.0)\n",
            "Requirement already satisfied: optree in /usr/local/lib/python3.12/dist-packages (from keras>=3.10.0->tensorflow) (0.17.0)\n",
            "Requirement already satisfied: charset_normalizer<4,>=2 in /usr/local/lib/python3.12/dist-packages (from requests<3,>=2.21.0->tensorflow) (3.4.3)\n",
            "Requirement already satisfied: idna<4,>=2.5 in /usr/local/lib/python3.12/dist-packages (from requests<3,>=2.21.0->tensorflow) (3.10)\n",
            "Requirement already satisfied: urllib3<3,>=1.21.1 in /usr/local/lib/python3.12/dist-packages (from requests<3,>=2.21.0->tensorflow) (2.5.0)\n",
            "Requirement already satisfied: certifi>=2017.4.17 in /usr/local/lib/python3.12/dist-packages (from requests<3,>=2.21.0->tensorflow) (2025.8.3)\n",
            "Requirement already satisfied: markdown>=2.6.8 in /usr/lib/python3/dist-packages (from tensorboard~=2.20.0->tensorflow) (3.3.6)\n",
            "Requirement already satisfied: pillow in /usr/local/lib/python3.12/dist-packages (from tensorboard~=2.20.0->tensorflow) (11.3.0)\n",
            "Collecting tensorboard-data-server<0.8.0,>=0.7.0 (from tensorboard~=2.20.0->tensorflow)\n",
            "  Downloading tensorboard_data_server-0.7.2-py3-none-manylinux_2_31_x86_64.whl.metadata (1.1 kB)\n",
            "Collecting werkzeug>=1.0.1 (from tensorboard~=2.20.0->tensorflow)\n",
            "  Downloading werkzeug-3.1.3-py3-none-any.whl.metadata (3.7 kB)\n",
            "Requirement already satisfied: MarkupSafe>=2.1.1 in /usr/local/lib/python3.12/dist-packages (from werkzeug>=1.0.1->tensorboard~=2.20.0->tensorflow) (3.0.2)\n",
            "Requirement already satisfied: markdown-it-py>=2.2.0 in /usr/local/lib/python3.12/dist-packages (from rich->keras>=3.10.0->tensorflow) (4.0.0)\n",
            "Requirement already satisfied: pygments<3.0.0,>=2.13.0 in /usr/local/lib/python3.12/dist-packages (from rich->keras>=3.10.0->tensorflow) (2.19.2)\n",
            "Requirement already satisfied: mdurl~=0.1 in /usr/local/lib/python3.12/dist-packages (from markdown-it-py>=2.2.0->rich->keras>=3.10.0->tensorflow) (0.1.2)\n",
            "Downloading tensorflow-2.20.0-cp312-cp312-manylinux_2_17_x86_64.manylinux2014_x86_64.whl (620.7 MB)\n",
            "\u001b[2K   \u001b[90m━━━━━━━━━━━━━━━━━━━━━━━━━━━━━━━━━━━━━━━\u001b[0m \u001b[32m620.7/620.7 MB\u001b[0m \u001b[31m737.7 kB/s\u001b[0m eta \u001b[36m0:00:00\u001b[0m\n",
            "\u001b[?25hDownloading astunparse-1.6.3-py2.py3-none-any.whl (12 kB)\n",
            "Downloading flatbuffers-25.9.23-py2.py3-none-any.whl (30 kB)\n",
            "Downloading google_pasta-0.2.0-py3-none-any.whl (57 kB)\n",
            "\u001b[2K   \u001b[90m━━━━━━━━━━━━━━━━━━━━━━━━━━━━━━━━━━━━━━━━\u001b[0m \u001b[32m57.5/57.5 kB\u001b[0m \u001b[31m6.1 MB/s\u001b[0m eta \u001b[36m0:00:00\u001b[0m\n",
            "\u001b[?25hDownloading libclang-18.1.1-py2.py3-none-manylinux2010_x86_64.whl (24.5 MB)\n",
            "\u001b[2K   \u001b[90m━━━━━━━━━━━━━━━━━━━━━━━━━━━━━━━━━━━━━━━━\u001b[0m \u001b[32m24.5/24.5 MB\u001b[0m \u001b[31m107.1 MB/s\u001b[0m eta \u001b[36m0:00:00\u001b[0m\n",
            "\u001b[?25hDownloading tensorboard-2.20.0-py3-none-any.whl (5.5 MB)\n",
            "\u001b[2K   \u001b[90m━━━━━━━━━━━━━━━━━━━━━━━━━━━━━━━━━━━━━━━━\u001b[0m \u001b[32m5.5/5.5 MB\u001b[0m \u001b[31m142.3 MB/s\u001b[0m eta \u001b[36m0:00:00\u001b[0m\n",
            "\u001b[?25hDownloading tensorboard_data_server-0.7.2-py3-none-manylinux_2_31_x86_64.whl (6.6 MB)\n",
            "\u001b[2K   \u001b[90m━━━━━━━━━━━━━━━━━━━━━━━━━━━━━━━━━━━━━━━━\u001b[0m \u001b[32m6.6/6.6 MB\u001b[0m \u001b[31m145.1 MB/s\u001b[0m eta \u001b[36m0:00:00\u001b[0m\n",
            "\u001b[?25hDownloading werkzeug-3.1.3-py3-none-any.whl (224 kB)\n",
            "\u001b[2K   \u001b[90m━━━━━━━━━━━━━━━━━━━━━━━━━━━━━━━━━━━━━━━━\u001b[0m \u001b[32m224.5/224.5 kB\u001b[0m \u001b[31m21.8 MB/s\u001b[0m eta \u001b[36m0:00:00\u001b[0m\n",
            "\u001b[?25hDownloading wheel-0.45.1-py3-none-any.whl (72 kB)\n",
            "\u001b[2K   \u001b[90m━━━━━━━━━━━━━━━━━━━━━━━━━━━━━━━━━━━━━━━━\u001b[0m \u001b[32m72.5/72.5 kB\u001b[0m \u001b[31m7.1 MB/s\u001b[0m eta \u001b[36m0:00:00\u001b[0m\n",
            "\u001b[?25hInstalling collected packages: libclang, flatbuffers, wheel, werkzeug, tensorboard-data-server, google_pasta, tensorboard, astunparse, tensorflow\n",
            "Successfully installed astunparse-1.6.3 flatbuffers-25.9.23 google_pasta-0.2.0 libclang-18.1.1 tensorboard-2.20.0 tensorboard-data-server-0.7.2 tensorflow-2.20.0 werkzeug-3.1.3 wheel-0.45.1\n"
          ]
        }
      ]
    },
    {
      "cell_type": "code",
      "execution_count": 8,
      "metadata": {
        "id": "iPof6EgdJPQ6"
      },
      "outputs": [],
      "source": [
        "import pandas as pd\n",
        "import tensorflow as tf\n",
        "import numpy as np\n",
        "import string"
      ]
    },
    {
      "cell_type": "code",
      "source": [
        "# Load raw data\n",
        "texts = []\n",
        "labels = []\n",
        "with open(\"/content/drive/MyDrive/Datasets/SMSSpamCollection\", \"r\") as infile:\n",
        "  for l in infile:\n",
        "    label, text = l.strip().split(\"\\t\")\n",
        "    if label == \"ham\":\n",
        "      labels.append(0)\n",
        "    else:\n",
        "      labels.append(1)\n",
        "    text = \"\".join([ch.lower() for ch in text if ch not in string.punctuation])\n",
        "    texts.append(text)\n",
        "\n",
        "labels = np.asarray(labels)"
      ],
      "metadata": {
        "id": "W0GycffIC-Ad"
      },
      "execution_count": 2,
      "outputs": []
    },
    {
      "cell_type": "markdown",
      "source": [
        "# Keras preprocessing"
      ],
      "metadata": {
        "id": "JFWGDMxJtVEW"
      }
    },
    {
      "cell_type": "code",
      "source": [
        "from tensorflow.keras.preprocessing.text import Tokenizer\n",
        "from tensorflow.keras.utils import pad_sequences\n",
        "from sklearn.model_selection import train_test_split\n",
        "\n",
        "tokenizer = Tokenizer(num_words=10000)\n",
        "tokenizer.fit_on_texts(texts)\n",
        "\n",
        "X_train, X_test, y_train, y_test = train_test_split(texts, labels, test_size=0.2)\n",
        "\n",
        "X_train_emb = tokenizer.texts_to_sequences(X_train)\n",
        "X_test_emb = tokenizer.texts_to_sequences(X_test)\n",
        "\n",
        "maxlen = 100\n",
        "\n",
        "X_train = pad_sequences(X_train_emb, padding='post', maxlen=maxlen)\n",
        "X_test = pad_sequences(X_test_emb, padding='post', maxlen=maxlen)\n",
        "\n",
        "vocab_size = len(tokenizer.word_index) + 1"
      ],
      "metadata": {
        "id": "clddqHFZE0l5"
      },
      "execution_count": 10,
      "outputs": []
    },
    {
      "cell_type": "markdown",
      "source": [
        "# A simple neural network"
      ],
      "metadata": {
        "id": "sInO8vW3tSUz"
      }
    },
    {
      "cell_type": "code",
      "source": [
        "import keras\n",
        "import tensorflow as tf\n",
        "\n",
        "embedding_dim = 50\n",
        "model = keras.Sequential()\n",
        "model.add(keras.layers.Embedding(vocab_size,embedding_dim))\n",
        "model.add(keras.layers.GlobalMaxPool1D())\n",
        "model.add(keras.layers.Dense(16, activation=tf.nn.relu))\n",
        "model.add(keras.layers.Dense(1, activation=tf.nn.sigmoid))\n",
        "model.compile(optimizer='adam',\n",
        "              loss='binary_crossentropy',\n",
        "              metrics=['acc'])\n",
        "model.summary()\n",
        "\n",
        "# Create a callback that saves the model's weights\n",
        "cp_callback = tf.keras.callbacks.ModelCheckpoint(filepath=\"/content/drive/MyDrive/Projects/0_playground/2_Playing with Tensorflow/checkpoints/weights.{epoch:02d}-{val_loss:.2f}.weights.h5\",\n",
        "                                                 save_weights_only=True,\n",
        "                                                 verbose=1)\n",
        "model.fit(X_train, y_train,\n",
        "          epochs=100,\n",
        "          verbose=False,\n",
        "          validation_data=(X_test, y_test),\n",
        "          batch_size=16,\n",
        "          callbacks=[cp_callback])\n",
        "loss, accuracy = model.evaluate(X_train, y_train, verbose=False)\n",
        "print(\"Training Accuracy: {:.4f}\".format(accuracy))\n",
        "loss, accuracy = model.evaluate(X_test, y_test, verbose=False)\n",
        "print(\"Testing Accuracy:  {:.4f}\".format(accuracy))\n",
        "model.save(\"/content/drive/MyDrive/Projects/0_playground/2_Playing with Tensorflow/models/TFmodel.keras\")"
      ],
      "metadata": {
        "colab": {
          "base_uri": "https://localhost:8080/",
          "height": 1000
        },
        "id": "FRhK0KF6tQzX",
        "outputId": "852bc958-2004-4728-efcc-a518f7fcfef0"
      },
      "execution_count": 15,
      "outputs": [
        {
          "output_type": "display_data",
          "data": {
            "text/plain": [
              "\u001b[1mModel: \"sequential_4\"\u001b[0m\n"
            ],
            "text/html": [
              "<pre style=\"white-space:pre;overflow-x:auto;line-height:normal;font-family:Menlo,'DejaVu Sans Mono',consolas,'Courier New',monospace\"><span style=\"font-weight: bold\">Model: \"sequential_4\"</span>\n",
              "</pre>\n"
            ]
          },
          "metadata": {}
        },
        {
          "output_type": "display_data",
          "data": {
            "text/plain": [
              "┏━━━━━━━━━━━━━━━━━━━━━━━━━━━━━━━━━┳━━━━━━━━━━━━━━━━━━━━━━━━┳━━━━━━━━━━━━━━━┓\n",
              "┃\u001b[1m \u001b[0m\u001b[1mLayer (type)                   \u001b[0m\u001b[1m \u001b[0m┃\u001b[1m \u001b[0m\u001b[1mOutput Shape          \u001b[0m\u001b[1m \u001b[0m┃\u001b[1m \u001b[0m\u001b[1m      Param #\u001b[0m\u001b[1m \u001b[0m┃\n",
              "┡━━━━━━━━━━━━━━━━━━━━━━━━━━━━━━━━━╇━━━━━━━━━━━━━━━━━━━━━━━━╇━━━━━━━━━━━━━━━┩\n",
              "│ embedding_4 (\u001b[38;5;33mEmbedding\u001b[0m)         │ ?                      │   \u001b[38;5;34m0\u001b[0m (unbuilt) │\n",
              "├─────────────────────────────────┼────────────────────────┼───────────────┤\n",
              "│ global_max_pooling1d_4          │ ?                      │             \u001b[38;5;34m0\u001b[0m │\n",
              "│ (\u001b[38;5;33mGlobalMaxPooling1D\u001b[0m)            │                        │               │\n",
              "├─────────────────────────────────┼────────────────────────┼───────────────┤\n",
              "│ dense_8 (\u001b[38;5;33mDense\u001b[0m)                 │ ?                      │   \u001b[38;5;34m0\u001b[0m (unbuilt) │\n",
              "├─────────────────────────────────┼────────────────────────┼───────────────┤\n",
              "│ dense_9 (\u001b[38;5;33mDense\u001b[0m)                 │ ?                      │   \u001b[38;5;34m0\u001b[0m (unbuilt) │\n",
              "└─────────────────────────────────┴────────────────────────┴───────────────┘\n"
            ],
            "text/html": [
              "<pre style=\"white-space:pre;overflow-x:auto;line-height:normal;font-family:Menlo,'DejaVu Sans Mono',consolas,'Courier New',monospace\">┏━━━━━━━━━━━━━━━━━━━━━━━━━━━━━━━━━┳━━━━━━━━━━━━━━━━━━━━━━━━┳━━━━━━━━━━━━━━━┓\n",
              "┃<span style=\"font-weight: bold\"> Layer (type)                    </span>┃<span style=\"font-weight: bold\"> Output Shape           </span>┃<span style=\"font-weight: bold\">       Param # </span>┃\n",
              "┡━━━━━━━━━━━━━━━━━━━━━━━━━━━━━━━━━╇━━━━━━━━━━━━━━━━━━━━━━━━╇━━━━━━━━━━━━━━━┩\n",
              "│ embedding_4 (<span style=\"color: #0087ff; text-decoration-color: #0087ff\">Embedding</span>)         │ ?                      │   <span style=\"color: #00af00; text-decoration-color: #00af00\">0</span> (unbuilt) │\n",
              "├─────────────────────────────────┼────────────────────────┼───────────────┤\n",
              "│ global_max_pooling1d_4          │ ?                      │             <span style=\"color: #00af00; text-decoration-color: #00af00\">0</span> │\n",
              "│ (<span style=\"color: #0087ff; text-decoration-color: #0087ff\">GlobalMaxPooling1D</span>)            │                        │               │\n",
              "├─────────────────────────────────┼────────────────────────┼───────────────┤\n",
              "│ dense_8 (<span style=\"color: #0087ff; text-decoration-color: #0087ff\">Dense</span>)                 │ ?                      │   <span style=\"color: #00af00; text-decoration-color: #00af00\">0</span> (unbuilt) │\n",
              "├─────────────────────────────────┼────────────────────────┼───────────────┤\n",
              "│ dense_9 (<span style=\"color: #0087ff; text-decoration-color: #0087ff\">Dense</span>)                 │ ?                      │   <span style=\"color: #00af00; text-decoration-color: #00af00\">0</span> (unbuilt) │\n",
              "└─────────────────────────────────┴────────────────────────┴───────────────┘\n",
              "</pre>\n"
            ]
          },
          "metadata": {}
        },
        {
          "output_type": "display_data",
          "data": {
            "text/plain": [
              "\u001b[1m Total params: \u001b[0m\u001b[38;5;34m0\u001b[0m (0.00 B)\n"
            ],
            "text/html": [
              "<pre style=\"white-space:pre;overflow-x:auto;line-height:normal;font-family:Menlo,'DejaVu Sans Mono',consolas,'Courier New',monospace\"><span style=\"font-weight: bold\"> Total params: </span><span style=\"color: #00af00; text-decoration-color: #00af00\">0</span> (0.00 B)\n",
              "</pre>\n"
            ]
          },
          "metadata": {}
        },
        {
          "output_type": "display_data",
          "data": {
            "text/plain": [
              "\u001b[1m Trainable params: \u001b[0m\u001b[38;5;34m0\u001b[0m (0.00 B)\n"
            ],
            "text/html": [
              "<pre style=\"white-space:pre;overflow-x:auto;line-height:normal;font-family:Menlo,'DejaVu Sans Mono',consolas,'Courier New',monospace\"><span style=\"font-weight: bold\"> Trainable params: </span><span style=\"color: #00af00; text-decoration-color: #00af00\">0</span> (0.00 B)\n",
              "</pre>\n"
            ]
          },
          "metadata": {}
        },
        {
          "output_type": "display_data",
          "data": {
            "text/plain": [
              "\u001b[1m Non-trainable params: \u001b[0m\u001b[38;5;34m0\u001b[0m (0.00 B)\n"
            ],
            "text/html": [
              "<pre style=\"white-space:pre;overflow-x:auto;line-height:normal;font-family:Menlo,'DejaVu Sans Mono',consolas,'Courier New',monospace\"><span style=\"font-weight: bold\"> Non-trainable params: </span><span style=\"color: #00af00; text-decoration-color: #00af00\">0</span> (0.00 B)\n",
              "</pre>\n"
            ]
          },
          "metadata": {}
        },
        {
          "output_type": "stream",
          "name": "stdout",
          "text": [
            "\n",
            "Epoch 1: saving model to /content/drive/MyDrive/Projects/0_playground/2_Playing with Tensorflow/checkpoints/weights.01-0.23.weights.h5\n",
            "\n",
            "Epoch 2: saving model to /content/drive/MyDrive/Projects/0_playground/2_Playing with Tensorflow/checkpoints/weights.02-0.08.weights.h5\n",
            "\n",
            "Epoch 3: saving model to /content/drive/MyDrive/Projects/0_playground/2_Playing with Tensorflow/checkpoints/weights.03-0.05.weights.h5\n",
            "\n",
            "Epoch 4: saving model to /content/drive/MyDrive/Projects/0_playground/2_Playing with Tensorflow/checkpoints/weights.04-0.04.weights.h5\n",
            "\n",
            "Epoch 5: saving model to /content/drive/MyDrive/Projects/0_playground/2_Playing with Tensorflow/checkpoints/weights.05-0.04.weights.h5\n",
            "\n",
            "Epoch 6: saving model to /content/drive/MyDrive/Projects/0_playground/2_Playing with Tensorflow/checkpoints/weights.06-0.04.weights.h5\n",
            "\n",
            "Epoch 7: saving model to /content/drive/MyDrive/Projects/0_playground/2_Playing with Tensorflow/checkpoints/weights.07-0.04.weights.h5\n",
            "\n",
            "Epoch 8: saving model to /content/drive/MyDrive/Projects/0_playground/2_Playing with Tensorflow/checkpoints/weights.08-0.04.weights.h5\n",
            "\n",
            "Epoch 9: saving model to /content/drive/MyDrive/Projects/0_playground/2_Playing with Tensorflow/checkpoints/weights.09-0.04.weights.h5\n",
            "\n",
            "Epoch 10: saving model to /content/drive/MyDrive/Projects/0_playground/2_Playing with Tensorflow/checkpoints/weights.10-0.03.weights.h5\n",
            "\n",
            "Epoch 11: saving model to /content/drive/MyDrive/Projects/0_playground/2_Playing with Tensorflow/checkpoints/weights.11-0.04.weights.h5\n",
            "\n",
            "Epoch 12: saving model to /content/drive/MyDrive/Projects/0_playground/2_Playing with Tensorflow/checkpoints/weights.12-0.04.weights.h5\n",
            "\n",
            "Epoch 13: saving model to /content/drive/MyDrive/Projects/0_playground/2_Playing with Tensorflow/checkpoints/weights.13-0.04.weights.h5\n",
            "\n",
            "Epoch 14: saving model to /content/drive/MyDrive/Projects/0_playground/2_Playing with Tensorflow/checkpoints/weights.14-0.04.weights.h5\n",
            "\n",
            "Epoch 15: saving model to /content/drive/MyDrive/Projects/0_playground/2_Playing with Tensorflow/checkpoints/weights.15-0.04.weights.h5\n",
            "\n",
            "Epoch 16: saving model to /content/drive/MyDrive/Projects/0_playground/2_Playing with Tensorflow/checkpoints/weights.16-0.04.weights.h5\n",
            "\n",
            "Epoch 17: saving model to /content/drive/MyDrive/Projects/0_playground/2_Playing with Tensorflow/checkpoints/weights.17-0.04.weights.h5\n",
            "\n",
            "Epoch 18: saving model to /content/drive/MyDrive/Projects/0_playground/2_Playing with Tensorflow/checkpoints/weights.18-0.04.weights.h5\n",
            "\n",
            "Epoch 19: saving model to /content/drive/MyDrive/Projects/0_playground/2_Playing with Tensorflow/checkpoints/weights.19-0.04.weights.h5\n",
            "\n",
            "Epoch 20: saving model to /content/drive/MyDrive/Projects/0_playground/2_Playing with Tensorflow/checkpoints/weights.20-0.04.weights.h5\n",
            "\n",
            "Epoch 21: saving model to /content/drive/MyDrive/Projects/0_playground/2_Playing with Tensorflow/checkpoints/weights.21-0.04.weights.h5\n",
            "\n",
            "Epoch 22: saving model to /content/drive/MyDrive/Projects/0_playground/2_Playing with Tensorflow/checkpoints/weights.22-0.04.weights.h5\n",
            "\n",
            "Epoch 23: saving model to /content/drive/MyDrive/Projects/0_playground/2_Playing with Tensorflow/checkpoints/weights.23-0.04.weights.h5\n",
            "\n",
            "Epoch 24: saving model to /content/drive/MyDrive/Projects/0_playground/2_Playing with Tensorflow/checkpoints/weights.24-0.04.weights.h5\n",
            "\n",
            "Epoch 25: saving model to /content/drive/MyDrive/Projects/0_playground/2_Playing with Tensorflow/checkpoints/weights.25-0.04.weights.h5\n",
            "\n",
            "Epoch 26: saving model to /content/drive/MyDrive/Projects/0_playground/2_Playing with Tensorflow/checkpoints/weights.26-0.04.weights.h5\n",
            "\n",
            "Epoch 27: saving model to /content/drive/MyDrive/Projects/0_playground/2_Playing with Tensorflow/checkpoints/weights.27-0.04.weights.h5\n",
            "\n",
            "Epoch 28: saving model to /content/drive/MyDrive/Projects/0_playground/2_Playing with Tensorflow/checkpoints/weights.28-0.04.weights.h5\n",
            "\n",
            "Epoch 29: saving model to /content/drive/MyDrive/Projects/0_playground/2_Playing with Tensorflow/checkpoints/weights.29-0.04.weights.h5\n",
            "\n",
            "Epoch 30: saving model to /content/drive/MyDrive/Projects/0_playground/2_Playing with Tensorflow/checkpoints/weights.30-0.04.weights.h5\n",
            "\n",
            "Epoch 31: saving model to /content/drive/MyDrive/Projects/0_playground/2_Playing with Tensorflow/checkpoints/weights.31-0.04.weights.h5\n",
            "\n",
            "Epoch 32: saving model to /content/drive/MyDrive/Projects/0_playground/2_Playing with Tensorflow/checkpoints/weights.32-0.04.weights.h5\n",
            "\n",
            "Epoch 33: saving model to /content/drive/MyDrive/Projects/0_playground/2_Playing with Tensorflow/checkpoints/weights.33-0.04.weights.h5\n",
            "\n",
            "Epoch 34: saving model to /content/drive/MyDrive/Projects/0_playground/2_Playing with Tensorflow/checkpoints/weights.34-0.04.weights.h5\n",
            "\n",
            "Epoch 35: saving model to /content/drive/MyDrive/Projects/0_playground/2_Playing with Tensorflow/checkpoints/weights.35-0.05.weights.h5\n",
            "\n",
            "Epoch 36: saving model to /content/drive/MyDrive/Projects/0_playground/2_Playing with Tensorflow/checkpoints/weights.36-0.05.weights.h5\n",
            "\n",
            "Epoch 37: saving model to /content/drive/MyDrive/Projects/0_playground/2_Playing with Tensorflow/checkpoints/weights.37-0.05.weights.h5\n",
            "\n",
            "Epoch 38: saving model to /content/drive/MyDrive/Projects/0_playground/2_Playing with Tensorflow/checkpoints/weights.38-0.05.weights.h5\n",
            "\n",
            "Epoch 39: saving model to /content/drive/MyDrive/Projects/0_playground/2_Playing with Tensorflow/checkpoints/weights.39-0.05.weights.h5\n",
            "\n",
            "Epoch 40: saving model to /content/drive/MyDrive/Projects/0_playground/2_Playing with Tensorflow/checkpoints/weights.40-0.05.weights.h5\n",
            "\n",
            "Epoch 41: saving model to /content/drive/MyDrive/Projects/0_playground/2_Playing with Tensorflow/checkpoints/weights.41-0.05.weights.h5\n",
            "\n",
            "Epoch 42: saving model to /content/drive/MyDrive/Projects/0_playground/2_Playing with Tensorflow/checkpoints/weights.42-0.05.weights.h5\n",
            "\n",
            "Epoch 43: saving model to /content/drive/MyDrive/Projects/0_playground/2_Playing with Tensorflow/checkpoints/weights.43-0.05.weights.h5\n",
            "\n",
            "Epoch 44: saving model to /content/drive/MyDrive/Projects/0_playground/2_Playing with Tensorflow/checkpoints/weights.44-0.05.weights.h5\n",
            "\n",
            "Epoch 45: saving model to /content/drive/MyDrive/Projects/0_playground/2_Playing with Tensorflow/checkpoints/weights.45-0.05.weights.h5\n",
            "\n",
            "Epoch 46: saving model to /content/drive/MyDrive/Projects/0_playground/2_Playing with Tensorflow/checkpoints/weights.46-0.05.weights.h5\n",
            "\n",
            "Epoch 47: saving model to /content/drive/MyDrive/Projects/0_playground/2_Playing with Tensorflow/checkpoints/weights.47-0.05.weights.h5\n",
            "\n",
            "Epoch 48: saving model to /content/drive/MyDrive/Projects/0_playground/2_Playing with Tensorflow/checkpoints/weights.48-0.05.weights.h5\n",
            "\n",
            "Epoch 49: saving model to /content/drive/MyDrive/Projects/0_playground/2_Playing with Tensorflow/checkpoints/weights.49-0.05.weights.h5\n",
            "\n",
            "Epoch 50: saving model to /content/drive/MyDrive/Projects/0_playground/2_Playing with Tensorflow/checkpoints/weights.50-0.05.weights.h5\n",
            "\n",
            "Epoch 51: saving model to /content/drive/MyDrive/Projects/0_playground/2_Playing with Tensorflow/checkpoints/weights.51-0.05.weights.h5\n",
            "\n",
            "Epoch 52: saving model to /content/drive/MyDrive/Projects/0_playground/2_Playing with Tensorflow/checkpoints/weights.52-0.05.weights.h5\n",
            "\n",
            "Epoch 53: saving model to /content/drive/MyDrive/Projects/0_playground/2_Playing with Tensorflow/checkpoints/weights.53-0.05.weights.h5\n",
            "\n",
            "Epoch 54: saving model to /content/drive/MyDrive/Projects/0_playground/2_Playing with Tensorflow/checkpoints/weights.54-0.05.weights.h5\n",
            "\n",
            "Epoch 55: saving model to /content/drive/MyDrive/Projects/0_playground/2_Playing with Tensorflow/checkpoints/weights.55-0.05.weights.h5\n",
            "\n",
            "Epoch 56: saving model to /content/drive/MyDrive/Projects/0_playground/2_Playing with Tensorflow/checkpoints/weights.56-0.05.weights.h5\n",
            "\n",
            "Epoch 57: saving model to /content/drive/MyDrive/Projects/0_playground/2_Playing with Tensorflow/checkpoints/weights.57-0.05.weights.h5\n",
            "\n",
            "Epoch 58: saving model to /content/drive/MyDrive/Projects/0_playground/2_Playing with Tensorflow/checkpoints/weights.58-0.06.weights.h5\n",
            "\n",
            "Epoch 59: saving model to /content/drive/MyDrive/Projects/0_playground/2_Playing with Tensorflow/checkpoints/weights.59-0.06.weights.h5\n",
            "\n",
            "Epoch 60: saving model to /content/drive/MyDrive/Projects/0_playground/2_Playing with Tensorflow/checkpoints/weights.60-0.06.weights.h5\n",
            "\n",
            "Epoch 61: saving model to /content/drive/MyDrive/Projects/0_playground/2_Playing with Tensorflow/checkpoints/weights.61-0.06.weights.h5\n",
            "\n",
            "Epoch 62: saving model to /content/drive/MyDrive/Projects/0_playground/2_Playing with Tensorflow/checkpoints/weights.62-0.06.weights.h5\n",
            "\n",
            "Epoch 63: saving model to /content/drive/MyDrive/Projects/0_playground/2_Playing with Tensorflow/checkpoints/weights.63-0.06.weights.h5\n",
            "\n",
            "Epoch 64: saving model to /content/drive/MyDrive/Projects/0_playground/2_Playing with Tensorflow/checkpoints/weights.64-0.06.weights.h5\n",
            "\n",
            "Epoch 65: saving model to /content/drive/MyDrive/Projects/0_playground/2_Playing with Tensorflow/checkpoints/weights.65-0.06.weights.h5\n",
            "\n",
            "Epoch 66: saving model to /content/drive/MyDrive/Projects/0_playground/2_Playing with Tensorflow/checkpoints/weights.66-0.06.weights.h5\n",
            "\n",
            "Epoch 67: saving model to /content/drive/MyDrive/Projects/0_playground/2_Playing with Tensorflow/checkpoints/weights.67-0.06.weights.h5\n",
            "\n",
            "Epoch 68: saving model to /content/drive/MyDrive/Projects/0_playground/2_Playing with Tensorflow/checkpoints/weights.68-0.06.weights.h5\n",
            "\n",
            "Epoch 69: saving model to /content/drive/MyDrive/Projects/0_playground/2_Playing with Tensorflow/checkpoints/weights.69-0.06.weights.h5\n",
            "\n",
            "Epoch 70: saving model to /content/drive/MyDrive/Projects/0_playground/2_Playing with Tensorflow/checkpoints/weights.70-0.06.weights.h5\n",
            "\n",
            "Epoch 71: saving model to /content/drive/MyDrive/Projects/0_playground/2_Playing with Tensorflow/checkpoints/weights.71-0.06.weights.h5\n",
            "\n",
            "Epoch 72: saving model to /content/drive/MyDrive/Projects/0_playground/2_Playing with Tensorflow/checkpoints/weights.72-0.06.weights.h5\n",
            "\n",
            "Epoch 73: saving model to /content/drive/MyDrive/Projects/0_playground/2_Playing with Tensorflow/checkpoints/weights.73-0.06.weights.h5\n",
            "\n",
            "Epoch 74: saving model to /content/drive/MyDrive/Projects/0_playground/2_Playing with Tensorflow/checkpoints/weights.74-0.06.weights.h5\n",
            "\n",
            "Epoch 75: saving model to /content/drive/MyDrive/Projects/0_playground/2_Playing with Tensorflow/checkpoints/weights.75-0.06.weights.h5\n",
            "\n",
            "Epoch 76: saving model to /content/drive/MyDrive/Projects/0_playground/2_Playing with Tensorflow/checkpoints/weights.76-0.06.weights.h5\n",
            "\n",
            "Epoch 77: saving model to /content/drive/MyDrive/Projects/0_playground/2_Playing with Tensorflow/checkpoints/weights.77-0.06.weights.h5\n",
            "\n",
            "Epoch 78: saving model to /content/drive/MyDrive/Projects/0_playground/2_Playing with Tensorflow/checkpoints/weights.78-0.06.weights.h5\n",
            "\n",
            "Epoch 79: saving model to /content/drive/MyDrive/Projects/0_playground/2_Playing with Tensorflow/checkpoints/weights.79-0.06.weights.h5\n",
            "\n",
            "Epoch 80: saving model to /content/drive/MyDrive/Projects/0_playground/2_Playing with Tensorflow/checkpoints/weights.80-0.06.weights.h5\n",
            "\n",
            "Epoch 81: saving model to /content/drive/MyDrive/Projects/0_playground/2_Playing with Tensorflow/checkpoints/weights.81-0.06.weights.h5\n",
            "\n",
            "Epoch 82: saving model to /content/drive/MyDrive/Projects/0_playground/2_Playing with Tensorflow/checkpoints/weights.82-0.06.weights.h5\n",
            "\n",
            "Epoch 83: saving model to /content/drive/MyDrive/Projects/0_playground/2_Playing with Tensorflow/checkpoints/weights.83-0.06.weights.h5\n",
            "\n",
            "Epoch 84: saving model to /content/drive/MyDrive/Projects/0_playground/2_Playing with Tensorflow/checkpoints/weights.84-0.06.weights.h5\n",
            "\n",
            "Epoch 85: saving model to /content/drive/MyDrive/Projects/0_playground/2_Playing with Tensorflow/checkpoints/weights.85-0.06.weights.h5\n",
            "\n",
            "Epoch 86: saving model to /content/drive/MyDrive/Projects/0_playground/2_Playing with Tensorflow/checkpoints/weights.86-0.06.weights.h5\n",
            "\n",
            "Epoch 87: saving model to /content/drive/MyDrive/Projects/0_playground/2_Playing with Tensorflow/checkpoints/weights.87-0.06.weights.h5\n",
            "\n",
            "Epoch 88: saving model to /content/drive/MyDrive/Projects/0_playground/2_Playing with Tensorflow/checkpoints/weights.88-0.07.weights.h5\n",
            "\n",
            "Epoch 89: saving model to /content/drive/MyDrive/Projects/0_playground/2_Playing with Tensorflow/checkpoints/weights.89-0.07.weights.h5\n",
            "\n",
            "Epoch 90: saving model to /content/drive/MyDrive/Projects/0_playground/2_Playing with Tensorflow/checkpoints/weights.90-0.07.weights.h5\n",
            "\n",
            "Epoch 91: saving model to /content/drive/MyDrive/Projects/0_playground/2_Playing with Tensorflow/checkpoints/weights.91-0.07.weights.h5\n",
            "\n",
            "Epoch 92: saving model to /content/drive/MyDrive/Projects/0_playground/2_Playing with Tensorflow/checkpoints/weights.92-0.07.weights.h5\n",
            "\n",
            "Epoch 93: saving model to /content/drive/MyDrive/Projects/0_playground/2_Playing with Tensorflow/checkpoints/weights.93-0.07.weights.h5\n",
            "\n",
            "Epoch 94: saving model to /content/drive/MyDrive/Projects/0_playground/2_Playing with Tensorflow/checkpoints/weights.94-0.07.weights.h5\n",
            "\n",
            "Epoch 95: saving model to /content/drive/MyDrive/Projects/0_playground/2_Playing with Tensorflow/checkpoints/weights.95-0.07.weights.h5\n",
            "\n",
            "Epoch 96: saving model to /content/drive/MyDrive/Projects/0_playground/2_Playing with Tensorflow/checkpoints/weights.96-0.07.weights.h5\n",
            "\n",
            "Epoch 97: saving model to /content/drive/MyDrive/Projects/0_playground/2_Playing with Tensorflow/checkpoints/weights.97-0.07.weights.h5\n",
            "\n",
            "Epoch 98: saving model to /content/drive/MyDrive/Projects/0_playground/2_Playing with Tensorflow/checkpoints/weights.98-0.07.weights.h5\n",
            "\n",
            "Epoch 99: saving model to /content/drive/MyDrive/Projects/0_playground/2_Playing with Tensorflow/checkpoints/weights.99-0.07.weights.h5\n",
            "\n",
            "Epoch 100: saving model to /content/drive/MyDrive/Projects/0_playground/2_Playing with Tensorflow/checkpoints/weights.100-0.07.weights.h5\n",
            "Training Accuracy: 1.0000\n",
            "Testing Accuracy:  0.9919\n"
          ]
        }
      ]
    }
  ]
}